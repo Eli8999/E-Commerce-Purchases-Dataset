{
 "cells": [
  {
   "cell_type": "markdown",
   "metadata": {},
   "source": [
    "Dataset : https://www.kaggle.com/utkarsharya/ecommerce-purchases"
   ]
  },
  {
   "cell_type": "code",
   "execution_count": 1,
   "metadata": {},
   "outputs": [],
   "source": [
    "import pandas as pd"
   ]
  },
  {
   "cell_type": "code",
   "execution_count": 10,
   "metadata": {},
   "outputs": [
    {
     "name": "stdout",
     "output_type": "stream",
     "text": [
      "                                             Address    Lot AM or PM  \\\n",
      "0  16629 Pace Camp Apt. 448\\nAlexisborough, NE 77...  46 in       PM   \n",
      "1  9374 Jasmine Spurs Suite 508\\nSouth John, TN 8...  28 rn       PM   \n",
      "2                   Unit 0065 Box 5052\\nDPO AP 27450  94 vE       PM   \n",
      "3              7780 Julia Fords\\nNew Stacy, WA 45798  36 vm       PM   \n",
      "4  23012 Munoz Drive Suite 337\\nNew Cynthia, TX 5...  20 IE       AM   \n",
      "\n",
      "                                        Browser Info  \\\n",
      "0  Opera/9.56.(X11; Linux x86_64; sl-SI) Presto/2...   \n",
      "1  Opera/8.93.(Windows 98; Win 9x 4.90; en-US) Pr...   \n",
      "2  Mozilla/5.0 (compatible; MSIE 9.0; Windows NT ...   \n",
      "3  Mozilla/5.0 (Macintosh; Intel Mac OS X 10_8_0 ...   \n",
      "4  Opera/9.58.(X11; Linux x86_64; it-IT) Presto/2...   \n",
      "\n",
      "                           Company       Credit Card CC Exp Date  \\\n",
      "0                  Martinez-Herman  6011929061123406       02/20   \n",
      "1  Fletcher, Richards and Whitaker  3337758169645356       11/18   \n",
      "2       Simpson, Williams and Pham      675957666125       08/19   \n",
      "3  Williams, Marshall and Buchanan  6011578504430710       02/24   \n",
      "4        Brown, Watson and Andrews  6011456623207998       10/25   \n",
      "\n",
      "   CC Security Code                  CC Provider  \\\n",
      "0               900                 JCB 16 digit   \n",
      "1               561                   Mastercard   \n",
      "2               699                 JCB 16 digit   \n",
      "3               384                     Discover   \n",
      "4               678  Diners Club / Carte Blanche   \n",
      "\n",
      "                            Email                                     Job  \\\n",
      "0               pdunlap@yahoo.com  Scientist, product/process development   \n",
      "1              anthony41@reed.com                       Drilling engineer   \n",
      "2  amymiller@morales-harrison.com                Customer service manager   \n",
      "3     brent16@olson-robinson.info                       Drilling engineer   \n",
      "4     christopherwright@gmail.com                             Fine artist   \n",
      "\n",
      "        IP Address Language  Purchase Price  \n",
      "0  149.146.147.205       el           98.14  \n",
      "1     15.160.41.51       fr           70.73  \n",
      "2   132.207.160.22       de            0.95  \n",
      "3     30.250.74.19       es           78.04  \n",
      "4     24.140.33.94       es           77.82  \n"
     ]
    }
   ],
   "source": [
    "\n",
    "file_path = r'C:\\Users\\Owner\\OneDrive\\Desktop\\Python Projects\\Ecommerce Purchases\\Ecommerce Purchases'\n",
    "\n",
    "data = pd.read_csv(file_path)\n",
    "\n",
    "print(data.head())\n"
   ]
  },
  {
   "cell_type": "code",
   "execution_count": 12,
   "metadata": {},
   "outputs": [
    {
     "name": "stdout",
     "output_type": "stream",
     "text": [
      "                                             Address    Lot AM or PM  \\\n",
      "0  16629 Pace Camp Apt. 448\\nAlexisborough, NE 77...  46 in       PM   \n",
      "1  9374 Jasmine Spurs Suite 508\\nSouth John, TN 8...  28 rn       PM   \n",
      "2                   Unit 0065 Box 5052\\nDPO AP 27450  94 vE       PM   \n",
      "3              7780 Julia Fords\\nNew Stacy, WA 45798  36 vm       PM   \n",
      "4  23012 Munoz Drive Suite 337\\nNew Cynthia, TX 5...  20 IE       AM   \n",
      "5  7502 Powell Mission Apt. 768\\nTravisland, VA 3...  21 XT       PM   \n",
      "6     93971 Conway Causeway\\nAndersonburgh, AZ 75107  96 Xt       AM   \n",
      "7  260 Rachel Plains Suite 366\\nCastroberg, WV 24...  96 pG       PM   \n",
      "8            2129 Dylan Burg\\nNew Michelle, ME 28650  45 JN       PM   \n",
      "9    3795 Dawson Extensions\\nLake Tinafort, ID 88739  15 Ug       AM   \n",
      "\n",
      "                                        Browser Info  \\\n",
      "0  Opera/9.56.(X11; Linux x86_64; sl-SI) Presto/2...   \n",
      "1  Opera/8.93.(Windows 98; Win 9x 4.90; en-US) Pr...   \n",
      "2  Mozilla/5.0 (compatible; MSIE 9.0; Windows NT ...   \n",
      "3  Mozilla/5.0 (Macintosh; Intel Mac OS X 10_8_0 ...   \n",
      "4  Opera/9.58.(X11; Linux x86_64; it-IT) Presto/2...   \n",
      "5  Mozilla/5.0 (Macintosh; U; PPC Mac OS X 10_8_5...   \n",
      "6  Mozilla/5.0 (compatible; MSIE 7.0; Windows NT ...   \n",
      "7  Mozilla/5.0 (X11; Linux i686) AppleWebKit/5350...   \n",
      "8  Mozilla/5.0 (Macintosh; U; Intel Mac OS X 10_7...   \n",
      "9  Mozilla/5.0 (X11; Linux i686; rv:1.9.7.20) Gec...   \n",
      "\n",
      "                           Company       Credit Card CC Exp Date  \\\n",
      "0                  Martinez-Herman  6011929061123406       02/20   \n",
      "1  Fletcher, Richards and Whitaker  3337758169645356       11/18   \n",
      "2       Simpson, Williams and Pham      675957666125       08/19   \n",
      "3  Williams, Marshall and Buchanan  6011578504430710       02/24   \n",
      "4        Brown, Watson and Andrews  6011456623207998       10/25   \n",
      "5                   Silva-Anderson    30246185196287       07/25   \n",
      "6                  Gibson and Sons  6011398782655569       07/24   \n",
      "7                 Marshall-Collins      561252141909       06/25   \n",
      "8                Galloway and Sons   180041795790001       04/24   \n",
      "9     Rivera, Buchanan and Ramirez     4396283918371       01/17   \n",
      "\n",
      "   CC Security Code                  CC Provider  \\\n",
      "0               900                 JCB 16 digit   \n",
      "1               561                   Mastercard   \n",
      "2               699                 JCB 16 digit   \n",
      "3               384                     Discover   \n",
      "4               678  Diners Club / Carte Blanche   \n",
      "5              7169                     Discover   \n",
      "6               714                VISA 16 digit   \n",
      "7               256                VISA 13 digit   \n",
      "8               899                 JCB 16 digit   \n",
      "9               931             American Express   \n",
      "\n",
      "                            Email                                     Job  \\\n",
      "0               pdunlap@yahoo.com  Scientist, product/process development   \n",
      "1              anthony41@reed.com                       Drilling engineer   \n",
      "2  amymiller@morales-harrison.com                Customer service manager   \n",
      "3     brent16@olson-robinson.info                       Drilling engineer   \n",
      "4     christopherwright@gmail.com                             Fine artist   \n",
      "5               ynguyen@gmail.com                       Fish farm manager   \n",
      "6              olivia04@yahoo.com                                  Dancer   \n",
      "7            phillip48@parks.info                         Event organiser   \n",
      "8            kdavis@rasmussen.com                       Financial manager   \n",
      "9        qcoleman@hunt-huerta.com                      Forensic scientist   \n",
      "\n",
      "        IP Address Language  Purchase Price  \n",
      "0  149.146.147.205       el           98.14  \n",
      "1     15.160.41.51       fr           70.73  \n",
      "2   132.207.160.22       de            0.95  \n",
      "3     30.250.74.19       es           78.04  \n",
      "4     24.140.33.94       es           77.82  \n",
      "5    55.96.152.147       ru           25.15  \n",
      "6   127.252.144.18       de           88.56  \n",
      "7   224.247.97.150       pt           44.25  \n",
      "8  146.234.201.229       ru           59.54  \n",
      "9    236.198.199.8       zh           95.63  \n"
     ]
    }
   ],
   "source": [
    "print(data.head(10))"
   ]
  },
  {
   "cell_type": "markdown",
   "metadata": {},
   "source": [
    "### 1.Display Top 10 Rows of The Dataset"
   ]
  },
  {
   "cell_type": "code",
   "execution_count": 13,
   "metadata": {},
   "outputs": [
    {
     "name": "stdout",
     "output_type": "stream",
     "text": [
      "                                             Address    Lot AM or PM  \\\n",
      "0  16629 Pace Camp Apt. 448\\nAlexisborough, NE 77...  46 in       PM   \n",
      "1  9374 Jasmine Spurs Suite 508\\nSouth John, TN 8...  28 rn       PM   \n",
      "2                   Unit 0065 Box 5052\\nDPO AP 27450  94 vE       PM   \n",
      "3              7780 Julia Fords\\nNew Stacy, WA 45798  36 vm       PM   \n",
      "4  23012 Munoz Drive Suite 337\\nNew Cynthia, TX 5...  20 IE       AM   \n",
      "5  7502 Powell Mission Apt. 768\\nTravisland, VA 3...  21 XT       PM   \n",
      "6     93971 Conway Causeway\\nAndersonburgh, AZ 75107  96 Xt       AM   \n",
      "7  260 Rachel Plains Suite 366\\nCastroberg, WV 24...  96 pG       PM   \n",
      "8            2129 Dylan Burg\\nNew Michelle, ME 28650  45 JN       PM   \n",
      "9    3795 Dawson Extensions\\nLake Tinafort, ID 88739  15 Ug       AM   \n",
      "\n",
      "                                        Browser Info  \\\n",
      "0  Opera/9.56.(X11; Linux x86_64; sl-SI) Presto/2...   \n",
      "1  Opera/8.93.(Windows 98; Win 9x 4.90; en-US) Pr...   \n",
      "2  Mozilla/5.0 (compatible; MSIE 9.0; Windows NT ...   \n",
      "3  Mozilla/5.0 (Macintosh; Intel Mac OS X 10_8_0 ...   \n",
      "4  Opera/9.58.(X11; Linux x86_64; it-IT) Presto/2...   \n",
      "5  Mozilla/5.0 (Macintosh; U; PPC Mac OS X 10_8_5...   \n",
      "6  Mozilla/5.0 (compatible; MSIE 7.0; Windows NT ...   \n",
      "7  Mozilla/5.0 (X11; Linux i686) AppleWebKit/5350...   \n",
      "8  Mozilla/5.0 (Macintosh; U; Intel Mac OS X 10_7...   \n",
      "9  Mozilla/5.0 (X11; Linux i686; rv:1.9.7.20) Gec...   \n",
      "\n",
      "                           Company       Credit Card CC Exp Date  \\\n",
      "0                  Martinez-Herman  6011929061123406       02/20   \n",
      "1  Fletcher, Richards and Whitaker  3337758169645356       11/18   \n",
      "2       Simpson, Williams and Pham      675957666125       08/19   \n",
      "3  Williams, Marshall and Buchanan  6011578504430710       02/24   \n",
      "4        Brown, Watson and Andrews  6011456623207998       10/25   \n",
      "5                   Silva-Anderson    30246185196287       07/25   \n",
      "6                  Gibson and Sons  6011398782655569       07/24   \n",
      "7                 Marshall-Collins      561252141909       06/25   \n",
      "8                Galloway and Sons   180041795790001       04/24   \n",
      "9     Rivera, Buchanan and Ramirez     4396283918371       01/17   \n",
      "\n",
      "   CC Security Code                  CC Provider  \\\n",
      "0               900                 JCB 16 digit   \n",
      "1               561                   Mastercard   \n",
      "2               699                 JCB 16 digit   \n",
      "3               384                     Discover   \n",
      "4               678  Diners Club / Carte Blanche   \n",
      "5              7169                     Discover   \n",
      "6               714                VISA 16 digit   \n",
      "7               256                VISA 13 digit   \n",
      "8               899                 JCB 16 digit   \n",
      "9               931             American Express   \n",
      "\n",
      "                            Email                                     Job  \\\n",
      "0               pdunlap@yahoo.com  Scientist, product/process development   \n",
      "1              anthony41@reed.com                       Drilling engineer   \n",
      "2  amymiller@morales-harrison.com                Customer service manager   \n",
      "3     brent16@olson-robinson.info                       Drilling engineer   \n",
      "4     christopherwright@gmail.com                             Fine artist   \n",
      "5               ynguyen@gmail.com                       Fish farm manager   \n",
      "6              olivia04@yahoo.com                                  Dancer   \n",
      "7            phillip48@parks.info                         Event organiser   \n",
      "8            kdavis@rasmussen.com                       Financial manager   \n",
      "9        qcoleman@hunt-huerta.com                      Forensic scientist   \n",
      "\n",
      "        IP Address Language  Purchase Price  \n",
      "0  149.146.147.205       el           98.14  \n",
      "1     15.160.41.51       fr           70.73  \n",
      "2   132.207.160.22       de            0.95  \n",
      "3     30.250.74.19       es           78.04  \n",
      "4     24.140.33.94       es           77.82  \n",
      "5    55.96.152.147       ru           25.15  \n",
      "6   127.252.144.18       de           88.56  \n",
      "7   224.247.97.150       pt           44.25  \n",
      "8  146.234.201.229       ru           59.54  \n",
      "9    236.198.199.8       zh           95.63  \n"
     ]
    }
   ],
   "source": [
    "print(data.head(10))"
   ]
  },
  {
   "cell_type": "markdown",
   "metadata": {},
   "source": [
    "### 2. Check Last 10 Rows of The Dataset"
   ]
  },
  {
   "cell_type": "code",
   "execution_count": 14,
   "metadata": {},
   "outputs": [
    {
     "name": "stdout",
     "output_type": "stream",
     "text": [
      "                                                Address    Lot AM or PM  \\\n",
      "9990  75731 Molly Springs\\nWest Danielle, VT 96934-5102  93 ty       PM   \n",
      "9991              PSC 8165, Box 8498\\nAPO AP 60327-0346  50 dA       AM   \n",
      "9992  885 Allen Mountains Apt. 230\\nWallhaven, LA 16995  40 vH       PM   \n",
      "9993  7555 Larson Locks Suite 229\\nEllisburgh, MA 34...  72 jg       PM   \n",
      "9994       6276 Rojas Hollow\\nLake Louis, WY 56410-7837  93 Ex       PM   \n",
      "9995      966 Castaneda Locks\\nWest Juliafurt, CO 96415  92 XI       PM   \n",
      "9996  832 Curtis Dam Suite 785\\nNorth Edwardburgh, T...  41 JY       AM   \n",
      "9997              Unit 4434 Box 6343\\nDPO AE 28026-0283  74 Zh       AM   \n",
      "9998               0096 English Rest\\nRoystad, IA 12457  74 cL       PM   \n",
      "9999     40674 Barrett Stravenue\\nGrimesville, WI 79682  64 Hr       AM   \n",
      "\n",
      "                                           Browser Info  \\\n",
      "9990  Mozilla/5.0 (Macintosh; Intel Mac OS X 10_7_4;...   \n",
      "9991  Mozilla/5.0 (compatible; MSIE 8.0; Windows NT ...   \n",
      "9992  Mozilla/5.0 (Macintosh; PPC Mac OS X 10_6_5) A...   \n",
      "9993  Mozilla/5.0 (Macintosh; U; Intel Mac OS X 10_8...   \n",
      "9994  Opera/9.68.(X11; Linux x86_64; sl-SI) Presto/2...   \n",
      "9995  Mozilla/5.0 (Windows NT 5.1) AppleWebKit/5352 ...   \n",
      "9996  Mozilla/5.0 (compatible; MSIE 9.0; Windows NT ...   \n",
      "9997  Mozilla/5.0 (Macintosh; U; Intel Mac OS X 10_7...   \n",
      "9998  Mozilla/5.0 (Macintosh; Intel Mac OS X 10_8_8;...   \n",
      "9999  Mozilla/5.0 (X11; Linux i686; rv:1.9.5.20) Gec...   \n",
      "\n",
      "                         Company       Credit Card CC Exp Date  \\\n",
      "9990  Pace, Vazquez and Richards   869968197049750       04/24   \n",
      "9991                  Snyder Inc  4221582137197481       02/24   \n",
      "9992                   Wells Ltd  4664825258997302       10/20   \n",
      "9993              Colon and Sons    30025560104631       10/25   \n",
      "9994                Ritter-Smith  3112186784121077       01/25   \n",
      "9995               Randall-Sloan   342945015358701       03/22   \n",
      "9996    Hale, Collins and Wilson   210033169205009       07/25   \n",
      "9997                Anderson Ltd  6011539787356311       05/21   \n",
      "9998                    Cook Inc   180003348082930       11/17   \n",
      "9999                  Greene Inc  4139972901927273       02/19   \n",
      "\n",
      "      CC Security Code       CC Provider                        Email  \\\n",
      "9990               877      JCB 15 digit  andersonmichael@sherman.biz   \n",
      "9991               969           Voyager           kking@wise-liu.com   \n",
      "9992               431          Discover            bberry@wright.net   \n",
      "9993               629           Maestro    chelseawilliams@lopez.biz   \n",
      "9994              1823           Maestro           iroberts@gmail.com   \n",
      "9995               838      JCB 15 digit       iscott@wade-garner.com   \n",
      "9996               207      JCB 16 digit           mary85@hotmail.com   \n",
      "9997                 1     VISA 16 digit            tyler16@gmail.com   \n",
      "9998               987  American Express      elizabethmoore@reid.net   \n",
      "9999               302      JCB 15 digit        rachelford@vaughn.com   \n",
      "\n",
      "                               Job       IP Address Language  Purchase Price  \n",
      "9990           Early years teacher     54.170.3.185       ru           18.35  \n",
      "9991         IT sales professional    254.25.31.156       el           25.93  \n",
      "9992                  Set designer    174.173.51.32       de           67.96  \n",
      "9993  Designer, exhibition/display    177.46.82.128       el           65.61  \n",
      "9994     Education officer, museum    242.44.112.18       zh           31.85  \n",
      "9995                    Printmaker    29.73.197.114       it           82.21  \n",
      "9996               Energy engineer   121.133.168.51       pt           25.63  \n",
      "9997            Veterinary surgeon    156.210.0.254       el           83.98  \n",
      "9998      Local government officer     55.78.26.143       es           38.84  \n",
      "9999        Embryologist, clinical  176.119.198.199       el           67.59  \n"
     ]
    }
   ],
   "source": [
    "print(data.tail(10))"
   ]
  },
  {
   "cell_type": "markdown",
   "metadata": {},
   "source": [
    "### 3. Check Datatype of Each Column"
   ]
  },
  {
   "cell_type": "code",
   "execution_count": 15,
   "metadata": {},
   "outputs": [
    {
     "data": {
      "text/plain": [
       "Address              object\n",
       "Lot                  object\n",
       "AM or PM             object\n",
       "Browser Info         object\n",
       "Company              object\n",
       "Credit Card           int64\n",
       "CC Exp Date          object\n",
       "CC Security Code      int64\n",
       "CC Provider          object\n",
       "Email                object\n",
       "Job                  object\n",
       "IP Address           object\n",
       "Language             object\n",
       "Purchase Price      float64\n",
       "dtype: object"
      ]
     },
     "execution_count": 15,
     "metadata": {},
     "output_type": "execute_result"
    }
   ],
   "source": [
    "data.dtypes\n"
   ]
  },
  {
   "cell_type": "markdown",
   "metadata": {},
   "source": [
    "### 4.Check Null Values In The Dataset"
   ]
  },
  {
   "cell_type": "code",
   "execution_count": 18,
   "metadata": {},
   "outputs": [
    {
     "data": {
      "text/plain": [
       "Address             0\n",
       "Lot                 0\n",
       "AM or PM            0\n",
       "Browser Info        0\n",
       "Company             0\n",
       "Credit Card         0\n",
       "CC Exp Date         0\n",
       "CC Security Code    0\n",
       "CC Provider         0\n",
       "Email               0\n",
       "Job                 0\n",
       "IP Address          0\n",
       "Language            0\n",
       "Purchase Price      0\n",
       "dtype: int64"
      ]
     },
     "execution_count": 18,
     "metadata": {},
     "output_type": "execute_result"
    }
   ],
   "source": [
    "data.isnull().sum()"
   ]
  },
  {
   "cell_type": "markdown",
   "metadata": {},
   "source": [
    "### 6. How Many Rows And Columns Are There In Our Dataset? "
   ]
  },
  {
   "cell_type": "code",
   "execution_count": 19,
   "metadata": {},
   "outputs": [
    {
     "data": {
      "text/plain": [
       "14"
      ]
     },
     "execution_count": 19,
     "metadata": {},
     "output_type": "execute_result"
    }
   ],
   "source": [
    "len(data.columns)"
   ]
  },
  {
   "cell_type": "code",
   "execution_count": 22,
   "metadata": {},
   "outputs": [
    {
     "data": {
      "text/plain": [
       "10000"
      ]
     },
     "execution_count": 22,
     "metadata": {},
     "output_type": "execute_result"
    }
   ],
   "source": [
    "len(data)"
   ]
  },
  {
   "cell_type": "code",
   "execution_count": 23,
   "metadata": {},
   "outputs": [
    {
     "name": "stdout",
     "output_type": "stream",
     "text": [
      "<class 'pandas.core.frame.DataFrame'>\n",
      "RangeIndex: 10000 entries, 0 to 9999\n",
      "Data columns (total 14 columns):\n",
      " #   Column            Non-Null Count  Dtype  \n",
      "---  ------            --------------  -----  \n",
      " 0   Address           10000 non-null  object \n",
      " 1   Lot               10000 non-null  object \n",
      " 2   AM or PM          10000 non-null  object \n",
      " 3   Browser Info      10000 non-null  object \n",
      " 4   Company           10000 non-null  object \n",
      " 5   Credit Card       10000 non-null  int64  \n",
      " 6   CC Exp Date       10000 non-null  object \n",
      " 7   CC Security Code  10000 non-null  int64  \n",
      " 8   CC Provider       10000 non-null  object \n",
      " 9   Email             10000 non-null  object \n",
      " 10  Job               10000 non-null  object \n",
      " 11  IP Address        10000 non-null  object \n",
      " 12  Language          10000 non-null  object \n",
      " 13  Purchase Price    10000 non-null  float64\n",
      "dtypes: float64(1), int64(2), object(11)\n",
      "memory usage: 1.1+ MB\n"
     ]
    }
   ],
   "source": [
    "data.info()\n"
   ]
  },
  {
   "cell_type": "markdown",
   "metadata": {},
   "source": [
    "### 7. Highest And Lowest Purchase Prices"
   ]
  },
  {
   "cell_type": "code",
   "execution_count": 24,
   "metadata": {},
   "outputs": [
    {
     "data": {
      "text/plain": [
       "Index(['Address', 'Lot', 'AM or PM', 'Browser Info', 'Company', 'Credit Card',\n",
       "       'CC Exp Date', 'CC Security Code', 'CC Provider', 'Email', 'Job',\n",
       "       'IP Address', 'Language', 'Purchase Price'],\n",
       "      dtype='object')"
      ]
     },
     "execution_count": 24,
     "metadata": {},
     "output_type": "execute_result"
    }
   ],
   "source": [
    "data.columns\n"
   ]
  },
  {
   "cell_type": "code",
   "execution_count": 25,
   "metadata": {},
   "outputs": [
    {
     "data": {
      "text/plain": [
       "0       98.14\n",
       "1       70.73\n",
       "2        0.95\n",
       "3       78.04\n",
       "4       77.82\n",
       "        ...  \n",
       "9995    82.21\n",
       "9996    25.63\n",
       "9997    83.98\n",
       "9998    38.84\n",
       "9999    67.59\n",
       "Name: Purchase Price, Length: 10000, dtype: float64"
      ]
     },
     "execution_count": 25,
     "metadata": {},
     "output_type": "execute_result"
    }
   ],
   "source": [
    "data['Purchase Price']"
   ]
  },
  {
   "cell_type": "code",
   "execution_count": 39,
   "metadata": {},
   "outputs": [
    {
     "data": {
      "text/plain": [
       "np.float64(99.99)"
      ]
     },
     "execution_count": 39,
     "metadata": {},
     "output_type": "execute_result"
    }
   ],
   "source": [
    "data['Purchase Price'].min()\n",
    "###\n",
    "\n",
    "data['Purchase Price'].max()"
   ]
  },
  {
   "cell_type": "markdown",
   "metadata": {},
   "source": [
    "### 8. Average Purchase Price"
   ]
  },
  {
   "cell_type": "code",
   "execution_count": 41,
   "metadata": {},
   "outputs": [
    {
     "data": {
      "text/plain": [
       "np.float64(50.347302)"
      ]
     },
     "execution_count": 41,
     "metadata": {},
     "output_type": "execute_result"
    }
   ],
   "source": [
    "data['Purchase Price'].mean()"
   ]
  },
  {
   "cell_type": "code",
   "execution_count": null,
   "metadata": {},
   "outputs": [],
   "source": []
  },
  {
   "cell_type": "markdown",
   "metadata": {},
   "source": [
    "### 9 .How many people have French 'fr' as their Language ?"
   ]
  },
  {
   "cell_type": "code",
   "execution_count": 42,
   "metadata": {},
   "outputs": [
    {
     "data": {
      "text/plain": [
       "Index(['Address', 'Lot', 'AM or PM', 'Browser Info', 'Company', 'Credit Card',\n",
       "       'CC Exp Date', 'CC Security Code', 'CC Provider', 'Email', 'Job',\n",
       "       'IP Address', 'Language', 'Purchase Price'],\n",
       "      dtype='object')"
      ]
     },
     "execution_count": 42,
     "metadata": {},
     "output_type": "execute_result"
    }
   ],
   "source": [
    "data.columns"
   ]
  },
  {
   "cell_type": "code",
   "execution_count": 45,
   "metadata": {},
   "outputs": [
    {
     "data": {
      "text/plain": [
       "0       el\n",
       "1       fr\n",
       "2       de\n",
       "3       es\n",
       "4       es\n",
       "        ..\n",
       "9995    it\n",
       "9996    pt\n",
       "9997    el\n",
       "9998    es\n",
       "9999    el\n",
       "Name: Language, Length: 10000, dtype: object"
      ]
     },
     "execution_count": 45,
     "metadata": {},
     "output_type": "execute_result"
    }
   ],
   "source": [
    "data['Language']"
   ]
  },
  {
   "cell_type": "code",
   "execution_count": 52,
   "metadata": {},
   "outputs": [
    {
     "data": {
      "text/plain": [
       "Address             1097\n",
       "Lot                 1097\n",
       "AM or PM            1097\n",
       "Browser Info        1097\n",
       "Company             1097\n",
       "Credit Card         1097\n",
       "CC Exp Date         1097\n",
       "CC Security Code    1097\n",
       "CC Provider         1097\n",
       "Email               1097\n",
       "Job                 1097\n",
       "IP Address          1097\n",
       "Language            1097\n",
       "Purchase Price      1097\n",
       "dtype: int64"
      ]
     },
     "execution_count": 52,
     "metadata": {},
     "output_type": "execute_result"
    }
   ],
   "source": [
    "data[data['Language']=='fr'].count()\n"
   ]
  },
  {
   "cell_type": "markdown",
   "metadata": {},
   "source": [
    "### 10. Job Title Contains Engineer"
   ]
  },
  {
   "cell_type": "code",
   "execution_count": 56,
   "metadata": {},
   "outputs": [
    {
     "data": {
      "text/plain": [
       "Index(['Address', 'Lot', 'AM or PM', 'Browser Info', 'Company', 'Credit Card',\n",
       "       'CC Exp Date', 'CC Security Code', 'CC Provider', 'Email', 'Job',\n",
       "       'IP Address', 'Language', 'Purchase Price'],\n",
       "      dtype='object')"
      ]
     },
     "execution_count": 56,
     "metadata": {},
     "output_type": "execute_result"
    }
   ],
   "source": [
    "data.columns"
   ]
  },
  {
   "cell_type": "code",
   "execution_count": 57,
   "metadata": {},
   "outputs": [
    {
     "data": {
      "text/plain": [
       "0       Scientist, product/process development\n",
       "1                            Drilling engineer\n",
       "2                     Customer service manager\n",
       "3                            Drilling engineer\n",
       "4                                  Fine artist\n",
       "                         ...                  \n",
       "9995                                Printmaker\n",
       "9996                           Energy engineer\n",
       "9997                        Veterinary surgeon\n",
       "9998                  Local government officer\n",
       "9999                    Embryologist, clinical\n",
       "Name: Job, Length: 10000, dtype: object"
      ]
     },
     "execution_count": 57,
     "metadata": {},
     "output_type": "execute_result"
    }
   ],
   "source": [
    "data['Job']"
   ]
  },
  {
   "cell_type": "code",
   "execution_count": 63,
   "metadata": {},
   "outputs": [
    {
     "data": {
      "text/plain": [
       "984"
      ]
     },
     "execution_count": 63,
     "metadata": {},
     "output_type": "execute_result"
    }
   ],
   "source": [
    "len(data[data['Job'].str.contains('Engineer',case=False)])"
   ]
  },
  {
   "cell_type": "markdown",
   "metadata": {},
   "source": [
    "### 11. How Many People Have Mastercard As Their Credit Card Provider And Made A Purchase Above 50?"
   ]
  },
  {
   "cell_type": "code",
   "execution_count": 64,
   "metadata": {},
   "outputs": [
    {
     "data": {
      "text/plain": [
       "Index(['Address', 'Lot', 'AM or PM', 'Browser Info', 'Company', 'Credit Card',\n",
       "       'CC Exp Date', 'CC Security Code', 'CC Provider', 'Email', 'Job',\n",
       "       'IP Address', 'Language', 'Purchase Price'],\n",
       "      dtype='object')"
      ]
     },
     "execution_count": 64,
     "metadata": {},
     "output_type": "execute_result"
    }
   ],
   "source": [
    "data.columns"
   ]
  },
  {
   "cell_type": "code",
   "execution_count": 71,
   "metadata": {},
   "outputs": [
    {
     "data": {
      "text/plain": [
       "405"
      ]
     },
     "execution_count": 71,
     "metadata": {},
     "output_type": "execute_result"
    }
   ],
   "source": [
    "len(data[(data['CC Provider']==\"Mastercard\") & (data['Purchase Price']>50)])"
   ]
  },
  {
   "cell_type": "code",
   "execution_count": 82,
   "metadata": {},
   "outputs": [
    {
     "data": {
      "text/plain": [
       "Address             405\n",
       "Lot                 405\n",
       "AM or PM            405\n",
       "Browser Info        405\n",
       "Company             405\n",
       "Credit Card         405\n",
       "CC Exp Date         405\n",
       "CC Security Code    405\n",
       "CC Provider         405\n",
       "Email               405\n",
       "Job                 405\n",
       "IP Address          405\n",
       "Language            405\n",
       "Purchase Price      405\n",
       "dtype: int64"
      ]
     },
     "execution_count": 82,
     "metadata": {},
     "output_type": "execute_result"
    }
   ],
   "source": [
    "data[(data['CC Provider']==\"Mastercard\") \\\n",
    "     & (data['Purchase Price']>50)].count()"
   ]
  },
  {
   "cell_type": "markdown",
   "metadata": {},
   "source": [
    "### 12. Find Email of The Person With The Following Credit Card Number: 4664825258997302 "
   ]
  },
  {
   "cell_type": "code",
   "execution_count": 83,
   "metadata": {},
   "outputs": [
    {
     "data": {
      "text/plain": [
       "Index(['Address', 'Lot', 'AM or PM', 'Browser Info', 'Company', 'Credit Card',\n",
       "       'CC Exp Date', 'CC Security Code', 'CC Provider', 'Email', 'Job',\n",
       "       'IP Address', 'Language', 'Purchase Price'],\n",
       "      dtype='object')"
      ]
     },
     "execution_count": 83,
     "metadata": {},
     "output_type": "execute_result"
    }
   ],
   "source": [
    "data.columns\n"
   ]
  },
  {
   "cell_type": "code",
   "execution_count": 101,
   "metadata": {},
   "outputs": [
    {
     "data": {
      "text/plain": [
       "9992    bberry@wright.net\n",
       "Name: Email, dtype: object"
      ]
     },
     "execution_count": 101,
     "metadata": {},
     "output_type": "execute_result"
    }
   ],
   "source": [
    "data[data['Credit Card']==4664825258997302] ['Email']"
   ]
  },
  {
   "cell_type": "markdown",
   "metadata": {},
   "source": [
    "### 13. How Many People Purchase During The AM and How Many People Purchase During PM ?"
   ]
  },
  {
   "cell_type": "code",
   "execution_count": 103,
   "metadata": {},
   "outputs": [
    {
     "data": {
      "text/plain": [
       "AM or PM\n",
       "PM    5068\n",
       "AM    4932\n",
       "Name: count, dtype: int64"
      ]
     },
     "execution_count": 103,
     "metadata": {},
     "output_type": "execute_result"
    }
   ],
   "source": [
    "data['AM or PM'].value_counts()"
   ]
  },
  {
   "cell_type": "code",
   "execution_count": null,
   "metadata": {},
   "outputs": [],
   "source": []
  },
  {
   "cell_type": "markdown",
   "metadata": {},
   "source": [
    "### 14. How Many People have A Credit Card That Expires In 2020?"
   ]
  },
  {
   "cell_type": "code",
   "execution_count": 104,
   "metadata": {},
   "outputs": [
    {
     "data": {
      "text/plain": [
       "Index(['Address', 'Lot', 'AM or PM', 'Browser Info', 'Company', 'Credit Card',\n",
       "       'CC Exp Date', 'CC Security Code', 'CC Provider', 'Email', 'Job',\n",
       "       'IP Address', 'Language', 'Purchase Price'],\n",
       "      dtype='object')"
      ]
     },
     "execution_count": 104,
     "metadata": {},
     "output_type": "execute_result"
    }
   ],
   "source": [
    "data.columns"
   ]
  },
  {
   "cell_type": "code",
   "execution_count": 105,
   "metadata": {},
   "outputs": [
    {
     "data": {
      "text/plain": [
       "0       02/20\n",
       "1       11/18\n",
       "2       08/19\n",
       "3       02/24\n",
       "4       10/25\n",
       "        ...  \n",
       "9995    03/22\n",
       "9996    07/25\n",
       "9997    05/21\n",
       "9998    11/17\n",
       "9999    02/19\n",
       "Name: CC Exp Date, Length: 10000, dtype: object"
      ]
     },
     "execution_count": 105,
     "metadata": {},
     "output_type": "execute_result"
    }
   ],
   "source": [
    "data['CC Exp Date']"
   ]
  },
  {
   "cell_type": "code",
   "execution_count": 114,
   "metadata": {},
   "outputs": [
    {
     "name": "stdout",
     "output_type": "stream",
     "text": [
      "988\n"
     ]
    }
   ],
   "source": [
    "def fun():\n",
    "    count=0\n",
    "    for date in data['CC Exp Date']:\n",
    "        if date.split('/')[1]=='20':\n",
    "            count=count+1\n",
    "    print(count)\n",
    "fun()\n"
   ]
  },
  {
   "cell_type": "code",
   "execution_count": 115,
   "metadata": {},
   "outputs": [
    {
     "data": {
      "text/plain": [
       "0        True\n",
       "1       False\n",
       "2       False\n",
       "3       False\n",
       "4       False\n",
       "        ...  \n",
       "9995    False\n",
       "9996    False\n",
       "9997    False\n",
       "9998    False\n",
       "9999    False\n",
       "Name: CC Exp Date, Length: 10000, dtype: bool"
      ]
     },
     "execution_count": 115,
     "metadata": {},
     "output_type": "execute_result"
    }
   ],
   "source": [
    "lendata[data['CC Exp Date'].apply(lambda X:X [3:]=='20')]"
   ]
  },
  {
   "cell_type": "markdown",
   "metadata": {},
   "source": [
    "### What Are The Top 5 Most Popular Email providers (e.g. gmail.com, yahoo.com, etc...) "
   ]
  },
  {
   "cell_type": "code",
   "execution_count": 122,
   "metadata": {},
   "outputs": [],
   "source": [
    "list1=[]\n",
    "for email in data['Email']:\n",
    "    list1.append(email.split('@')[1])"
   ]
  },
  {
   "cell_type": "code",
   "execution_count": 124,
   "metadata": {},
   "outputs": [],
   "source": [
    "data['temp']=list1"
   ]
  },
  {
   "cell_type": "code",
   "execution_count": 127,
   "metadata": {},
   "outputs": [
    {
     "data": {
      "text/html": [
       "<div>\n",
       "<style scoped>\n",
       "    .dataframe tbody tr th:only-of-type {\n",
       "        vertical-align: middle;\n",
       "    }\n",
       "\n",
       "    .dataframe tbody tr th {\n",
       "        vertical-align: top;\n",
       "    }\n",
       "\n",
       "    .dataframe thead th {\n",
       "        text-align: right;\n",
       "    }\n",
       "</style>\n",
       "<table border=\"1\" class=\"dataframe\">\n",
       "  <thead>\n",
       "    <tr style=\"text-align: right;\">\n",
       "      <th></th>\n",
       "      <th>Address</th>\n",
       "      <th>Lot</th>\n",
       "      <th>AM or PM</th>\n",
       "      <th>Browser Info</th>\n",
       "      <th>Company</th>\n",
       "      <th>Credit Card</th>\n",
       "      <th>CC Exp Date</th>\n",
       "      <th>CC Security Code</th>\n",
       "      <th>CC Provider</th>\n",
       "      <th>Email</th>\n",
       "      <th>Job</th>\n",
       "      <th>IP Address</th>\n",
       "      <th>Language</th>\n",
       "      <th>Purchase Price</th>\n",
       "      <th>temp</th>\n",
       "    </tr>\n",
       "  </thead>\n",
       "  <tbody>\n",
       "    <tr>\n",
       "      <th>0</th>\n",
       "      <td>16629 Pace Camp Apt. 448\\nAlexisborough, NE 77...</td>\n",
       "      <td>46 in</td>\n",
       "      <td>PM</td>\n",
       "      <td>Opera/9.56.(X11; Linux x86_64; sl-SI) Presto/2...</td>\n",
       "      <td>Martinez-Herman</td>\n",
       "      <td>6011929061123406</td>\n",
       "      <td>02/20</td>\n",
       "      <td>900</td>\n",
       "      <td>JCB 16 digit</td>\n",
       "      <td>pdunlap@yahoo.com</td>\n",
       "      <td>Scientist, product/process development</td>\n",
       "      <td>149.146.147.205</td>\n",
       "      <td>el</td>\n",
       "      <td>98.14</td>\n",
       "      <td>yahoo.com</td>\n",
       "    </tr>\n",
       "  </tbody>\n",
       "</table>\n",
       "</div>"
      ],
      "text/plain": [
       "                                             Address    Lot AM or PM  \\\n",
       "0  16629 Pace Camp Apt. 448\\nAlexisborough, NE 77...  46 in       PM   \n",
       "\n",
       "                                        Browser Info          Company  \\\n",
       "0  Opera/9.56.(X11; Linux x86_64; sl-SI) Presto/2...  Martinez-Herman   \n",
       "\n",
       "        Credit Card CC Exp Date  CC Security Code   CC Provider  \\\n",
       "0  6011929061123406       02/20               900  JCB 16 digit   \n",
       "\n",
       "               Email                                     Job       IP Address  \\\n",
       "0  pdunlap@yahoo.com  Scientist, product/process development  149.146.147.205   \n",
       "\n",
       "  Language  Purchase Price       temp  \n",
       "0       el           98.14  yahoo.com  "
      ]
     },
     "execution_count": 127,
     "metadata": {},
     "output_type": "execute_result"
    }
   ],
   "source": [
    "data.head(1)"
   ]
  },
  {
   "cell_type": "code",
   "execution_count": 129,
   "metadata": {},
   "outputs": [
    {
     "data": {
      "text/plain": [
       "temp\n",
       "hotmail.com     1638\n",
       "yahoo.com       1616\n",
       "gmail.com       1605\n",
       "smith.com         42\n",
       "williams.com      37\n",
       "Name: count, dtype: int64"
      ]
     },
     "execution_count": 129,
     "metadata": {},
     "output_type": "execute_result"
    }
   ],
   "source": [
    "data['temp'].value_counts().head()"
   ]
  },
  {
   "cell_type": "code",
   "execution_count": 131,
   "metadata": {},
   "outputs": [
    {
     "data": {
      "text/plain": [
       "Email\n",
       "hotmail.com     1638\n",
       "yahoo.com       1616\n",
       "gmail.com       1605\n",
       "smith.com         42\n",
       "williams.com      37\n",
       "Name: count, dtype: int64"
      ]
     },
     "execution_count": 131,
     "metadata": {},
     "output_type": "execute_result"
    }
   ],
   "source": [
    "data['Email'].apply(lambda x:x.split('@')[1]).value_counts().head()"
   ]
  },
  {
   "cell_type": "code",
   "execution_count": null,
   "metadata": {},
   "outputs": [],
   "source": []
  }
 ],
 "metadata": {
  "kernelspec": {
   "display_name": "Python 3",
   "language": "python",
   "name": "python3"
  },
  "language_info": {
   "codemirror_mode": {
    "name": "ipython",
    "version": 3
   },
   "file_extension": ".py",
   "mimetype": "text/x-python",
   "name": "python",
   "nbconvert_exporter": "python",
   "pygments_lexer": "ipython3",
   "version": "3.10.2"
  }
 },
 "nbformat": 4,
 "nbformat_minor": 4
}
